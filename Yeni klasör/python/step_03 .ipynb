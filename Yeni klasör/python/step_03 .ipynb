{
 "cells": [
  {
   "cell_type": "code",
   "execution_count": 8,
   "metadata": {},
   "outputs": [],
   "source": [
    "class Product:\n",
    "    def __init__(self):\n",
    "        print(\"An istance has been derived from Product class.\")\n",
    "    pass"
   ]
  },
  {
   "cell_type": "code",
   "execution_count": 9,
   "metadata": {},
   "outputs": [
    {
     "name": "stdout",
     "output_type": "stream",
     "text": [
      "An istance has been derived from Product class.\n"
     ]
    }
   ],
   "source": [
    "item1 = Product()\n",
    "#dinamik özellik tanımı\n",
    "item1.name = \"laptop\"\n",
    "item1.price = 799.90\n",
    "item1.quantity= 2"
   ]
  },
  {
   "cell_type": "code",
   "execution_count": 10,
   "metadata": {},
   "outputs": [
    {
     "name": "stdout",
     "output_type": "stream",
     "text": [
      "An istance has been derived from Product class.\n"
     ]
    }
   ],
   "source": [
    "item2 = Product()\n",
    "#dinamik özellik tanımı\n",
    "item2_name = \"computer\"\n",
    "item2_price = 1999.99\n",
    "item2_quantity= 3"
   ]
  }
 ],
 "metadata": {
  "kernelspec": {
   "display_name": "Python 3",
   "language": "python",
   "name": "python3"
  },
  "language_info": {
   "codemirror_mode": {
    "name": "ipython",
    "version": 3
   },
   "file_extension": ".py",
   "mimetype": "text/x-python",
   "name": "python",
   "nbconvert_exporter": "python",
   "pygments_lexer": "ipython3",
   "version": "3.12.2"
  }
 },
 "nbformat": 4,
 "nbformat_minor": 2
}
