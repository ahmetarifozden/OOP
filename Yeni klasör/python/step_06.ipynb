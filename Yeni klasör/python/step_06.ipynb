{
 "cells": [
  {
   "cell_type": "code",
   "execution_count": 51,
   "metadata": {},
   "outputs": [],
   "source": [
    "class Product:\n",
    "    def __init__(self,name,price,quantity):\n",
    "        print(f\"An istance with name: {name} has been derived from Product class.\")\n",
    "        self.__name = name\n",
    "        self.__price = price\n",
    "        self.__quantity = quantity\n",
    "    @property\n",
    "    def name(self):\n",
    "        return self.__name\n",
    "    @property\n",
    "    def price(self):\n",
    "        return self.__price\n",
    "    @property\n",
    "    def quantity(self):\n",
    "        return self.__quantity\n",
    "    @name.setter\n",
    "    def price(self,value1):\n",
    "        self.__price=value1     \n",
    "    @name.setter\n",
    "    def name(self,value2):\n",
    "        self.__name=value2\n",
    "    @name.setter\n",
    "    def quantity(self,value3):\n",
    "        self.__quantity = value3   \n",
    "\n",
    "    pass"
   ]
  },
  {
   "cell_type": "code",
   "execution_count": 52,
   "metadata": {},
   "outputs": [
    {
     "name": "stdout",
     "output_type": "stream",
     "text": [
      "An istance with name: Laptop has been derived from Product class.\n",
      "Laptop\n",
      "Laptop\n",
      "Laptop\n"
     ]
    }
   ],
   "source": [
    "item1 = Product(\"Laptop\",799.99,2)\n",
    "#item1.name =\"HP LAPTOP\"\n",
    "#item1.price = \"2324\"\n",
    "#item1.quantity= \"23\"\n",
    "print(item1.name)\n",
    "print(item1.price)\n",
    "print(item1.quantity)\n"
   ]
  },
  {
   "cell_type": "code",
   "execution_count": 53,
   "metadata": {},
   "outputs": [],
   "source": [
    "#item2 = Product()\n",
    "#dinamik özellik tanımı\n",
    "#item2_name = \"computer\"\n",
    "#item2_price = 1999.99\n"
   ]
  }
 ],
 "metadata": {
  "kernelspec": {
   "display_name": "Python 3",
   "language": "python",
   "name": "python3"
  },
  "language_info": {
   "codemirror_mode": {
    "name": "ipython",
    "version": 3
   },
   "file_extension": ".py",
   "mimetype": "text/x-python",
   "name": "python",
   "nbconvert_exporter": "python",
   "pygments_lexer": "ipython3",
   "version": "3.12.2"
  }
 },
 "nbformat": 4,
 "nbformat_minor": 2
}
